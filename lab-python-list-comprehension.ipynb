{
 "cells": [
  {
   "cell_type": "markdown",
   "id": "25d7736c-ba17-4aff-b6bb-66eba20fbf4e",
   "metadata": {},
   "source": [
    "# Lab | List, Dict and Set Comprehension"
   ]
  },
  {
   "cell_type": "markdown",
   "id": "7dd3cbde-675a-4b81-92c3-f728846dbe06",
   "metadata": {},
   "source": [
    "## Exercise: Managing Customer Orders Optimized with Comprehension"
   ]
  },
  {
   "cell_type": "markdown",
   "id": "5d500160-2fb7-4777-b5e4-09d45ebaf328",
   "metadata": {},
   "source": [
    "In the previous exercise, you developed a program to manage customer orders and inventory. Now, let's take it a step further and incorporate comprehension into your code.\n",
    "\n",
    "Follow the steps below to complete the exercise:\n",
    "\n",
    "1. Review your code from the previous exercise and identify areas where you can apply comprehension to simplify and streamline your code. \n",
    "\n",
    "    - *Hint: Apply it to initialize inventory, updating the inventory and printing the updated inventory.*\n",
    "    \n",
    "    - For example, in initializing the inventory, we could have:\n",
    "    \n",
    "        ```python\n",
    "        def initialize_inventory(products):\n",
    "            inventory = {product: int(input(f\"Enter the quantity of {product}s available: \")) for product in products}\n",
    "            return inventory\n",
    "\n",
    "        ```\n",
    "<br>\n",
    "    \n",
    "    \n",
    "2. Modify the function get_customer_orders so it prompts the user to enter the number of customer orders and gathers the product names using a loop and user input. Use comprehension.\n",
    "\n",
    "3. Add a new function to calculate the total price of the customer order. For each product in customer_orders, prompt the user to enter the price of that product. Use comprehension to calculate the total price. Note: assume that the user can only have 1 unit of each product.\n",
    "\n",
    "4. Modify the update_inventory function to remove the product from the inventory if its quantity becomes zero after fulfilling the customer orders. Use comprehension to filter out the products with a quantity of zero from the inventory.\n",
    "\n",
    "5. Print the total price of the customer order.\n",
    "\n",
    "Your code should produce output similar to the following:\n",
    "\n",
    "```python\n",
    "Enter the quantity of t-shirts available:  5\n",
    "Enter the quantity of mugs available:  4\n",
    "Enter the quantity of hats available:  3\n",
    "Enter the quantity of books available:  2\n",
    "Enter the quantity of keychains available:  1\n",
    "Enter the number of customer orders:  2\n",
    "Enter the name of a product that a customer wants to order:  hat\n",
    "Enter the name of a product that a customer wants to order:  keychain\n",
    "\n",
    "Order Statistics:\n",
    "Total Products Ordered: 2\n",
    "Percentage of Unique Products Ordered: 40.0\n",
    "\n",
    "Updated Inventory:\n",
    "t-shirt: 5\n",
    "mug: 4\n",
    "hat: 2\n",
    "book: 2\n",
    "Enter the price of keychain:  5\n",
    "Enter the price of hat:  10\n",
    "Total Price: 15.0\n",
    "\n",
    "```\n"
   ]
  },
  {
   "cell_type": "code",
   "execution_count": 34,
   "id": "ab70dbd0-7206-4bec-9c89-9bc6fe1c4360",
   "metadata": {},
   "outputs": [],
   "source": [
    "#1\n",
    "def initialize_inventory(products : list) -> dict:\n",
    "    inventory = {key:int(input(\"Enter the quantity for \" + key + \" :\")) for key in products}\n",
    "    return inventory\n",
    "\n",
    "#2\n",
    "def get_customer_orders() -> set:\n",
    "    number_of_orders = int(input(\"Enter the number of customer orders: \"))\n",
    "    customer_orders = {input(\"Enter a product: \") for order in range(1,number_of_orders + 1)}   \n",
    "    return customer_orders\n",
    "\n",
    "#3\n",
    "def calculate_price(orders : set) -> int: \n",
    "    prices = [int(input(\"Enter a price for : \" + order))for order in orders]\n",
    "    total_price = sum(prices)\n",
    "    return total_price\n",
    "\n",
    "#4    \n",
    "def update_inventory(customer_orders : set, inventory : dict) -> dict:\n",
    "    updated_inventory = {product : value - 1 if product in customer_orders else value for product,value in inventory.items()}\n",
    "    final_inventory = {final_product : quantity for final_product,quantity in updated_inventory.items() if quantity > 0}\n",
    "    return final_inventory\n",
    "\n",
    "def calculate_order_statistics(customer_orders : set, products : list) ->tuple:\n",
    "    total_products_ordered = len(customer_orders)\n",
    "    total_unique_products = len(products)\n",
    "    percentage = (total_products_ordered/total_unique_products)*100\n",
    "    order_statistics = (total_products_ordered, percentage)\n",
    "    return order_statistics\n",
    "\n",
    "def print_order_statistics(order_statistics : tuple) -> str:\n",
    "    print(\"Order Statistics: \\nTotal Products Ordered: \" + str(order_statistics[0]) + \"\\nPercentage of Products Ordered (unique): \" + str(order_statistics[1]))\n",
    "    \n",
    "def print_updated_inventory(final_inventory : dict) ->str:\n",
    "    print(\"Updated Inventory:  \\n\" + (f\"{product} : {value}\" for product,value in final_inventory.items()))\n",
    "\n",
    "#5\n",
    "def print_final_price(total_price : int) -> str:\n",
    "    print(f\"Total price: {total_price}\")"
   ]
  },
  {
   "cell_type": "code",
   "execution_count": null,
   "id": "385d6659-4a9e-4457-b9c5-8128b06dc6b5",
   "metadata": {},
   "outputs": [],
   "source": []
  }
 ],
 "metadata": {
  "kernelspec": {
   "display_name": "Python 3 (ipykernel)",
   "language": "python",
   "name": "python3"
  },
  "language_info": {
   "codemirror_mode": {
    "name": "ipython",
    "version": 3
   },
   "file_extension": ".py",
   "mimetype": "text/x-python",
   "name": "python",
   "nbconvert_exporter": "python",
   "pygments_lexer": "ipython3",
   "version": "3.9.18"
  }
 },
 "nbformat": 4,
 "nbformat_minor": 5
}
